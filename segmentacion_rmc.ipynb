{
  "nbformat": 4,
  "nbformat_minor": 0,
  "metadata": {
    "colab": {
      "provenance": [],
      "gpuType": "T4",
      "authorship_tag": "ABX9TyM0W1qxxFtOuVm2lV5vfQKv",
      "include_colab_link": true
    },
    "kernelspec": {
      "name": "python3",
      "display_name": "Python 3"
    },
    "language_info": {
      "name": "python"
    },
    "accelerator": "GPU"
  },
  "cells": [
    {
      "cell_type": "markdown",
      "metadata": {
        "id": "view-in-github",
        "colab_type": "text"
      },
      "source": [
        "<a href=\"https://colab.research.google.com/github/Vicente836/Practica-Ihealth/blob/S3/segmentacion_rmc.ipynb\" target=\"_parent\"><img src=\"https://colab.research.google.com/assets/colab-badge.svg\" alt=\"Open In Colab\"/></a>"
      ]
    },
    {
      "cell_type": "code",
      "source": [
        "!pip install nnunet"
      ],
      "metadata": {
        "colab": {
          "base_uri": "https://localhost:8080/",
          "height": 1000
        },
        "collapsed": true,
        "id": "6LikiwhIfxl-",
        "outputId": "0b4fb60e-55f5-421c-9c23-78605534042f"
      },
      "execution_count": 1,
      "outputs": [
        {
          "output_type": "stream",
          "name": "stdout",
          "text": [
            "Collecting nnunet\n",
            "  Downloading nnunet-1.7.1.tar.gz (276 kB)\n",
            "\u001b[2K     \u001b[90m━━━━━━━━━━━━━━━━━━━━━━━━━━━━━━━━━━━━━━━━\u001b[0m \u001b[32m276.6/276.6 kB\u001b[0m \u001b[31m5.0 MB/s\u001b[0m eta \u001b[36m0:00:00\u001b[0m\n",
            "\u001b[?25h  Preparing metadata (setup.py) ... \u001b[?25l\u001b[?25hdone\n",
            "Requirement already satisfied: torch>1.10.0 in /usr/local/lib/python3.10/dist-packages (from nnunet) (2.5.1+cu121)\n",
            "Requirement already satisfied: tqdm in /usr/local/lib/python3.10/dist-packages (from nnunet) (4.67.1)\n",
            "Collecting dicom2nifti (from nnunet)\n",
            "  Downloading dicom2nifti-2.5.1-py3-none-any.whl.metadata (1.3 kB)\n",
            "Requirement already satisfied: scikit-image>=0.14 in /usr/local/lib/python3.10/dist-packages (from nnunet) (0.25.0)\n",
            "Collecting medpy (from nnunet)\n",
            "  Downloading medpy-0.5.2.tar.gz (156 kB)\n",
            "\u001b[2K     \u001b[90m━━━━━━━━━━━━━━━━━━━━━━━━━━━━━━━━━━━━━━━━\u001b[0m \u001b[32m156.3/156.3 kB\u001b[0m \u001b[31m10.6 MB/s\u001b[0m eta \u001b[36m0:00:00\u001b[0m\n",
            "\u001b[?25h  Preparing metadata (setup.py) ... \u001b[?25l\u001b[?25hdone\n",
            "Requirement already satisfied: scipy in /usr/local/lib/python3.10/dist-packages (from nnunet) (1.13.1)\n",
            "Collecting batchgenerators>=0.23 (from nnunet)\n",
            "  Downloading batchgenerators-0.25.1.tar.gz (76 kB)\n",
            "\u001b[2K     \u001b[90m━━━━━━━━━━━━━━━━━━━━━━━━━━━━━━━━━━━━━━━━\u001b[0m \u001b[32m77.0/77.0 kB\u001b[0m \u001b[31m5.2 MB/s\u001b[0m eta \u001b[36m0:00:00\u001b[0m\n",
            "\u001b[?25h  Preparing metadata (setup.py) ... \u001b[?25l\u001b[?25hdone\n",
            "Requirement already satisfied: numpy in /usr/local/lib/python3.10/dist-packages (from nnunet) (1.26.4)\n",
            "Requirement already satisfied: scikit-learn in /usr/local/lib/python3.10/dist-packages (from nnunet) (1.6.0)\n",
            "Collecting SimpleITK (from nnunet)\n",
            "  Downloading SimpleITK-2.4.0-cp310-cp310-manylinux_2_17_x86_64.manylinux2014_x86_64.whl.metadata (7.9 kB)\n",
            "Requirement already satisfied: pandas in /usr/local/lib/python3.10/dist-packages (from nnunet) (2.2.2)\n",
            "Requirement already satisfied: requests in /usr/local/lib/python3.10/dist-packages (from nnunet) (2.32.3)\n",
            "Requirement already satisfied: nibabel in /usr/local/lib/python3.10/dist-packages (from nnunet) (5.3.2)\n",
            "Requirement already satisfied: tifffile in /usr/local/lib/python3.10/dist-packages (from nnunet) (2024.12.12)\n",
            "Requirement already satisfied: matplotlib in /usr/local/lib/python3.10/dist-packages (from nnunet) (3.8.0)\n",
            "Requirement already satisfied: pillow>=7.1.2 in /usr/local/lib/python3.10/dist-packages (from batchgenerators>=0.23->nnunet) (11.0.0)\n",
            "Requirement already satisfied: future in /usr/local/lib/python3.10/dist-packages (from batchgenerators>=0.23->nnunet) (1.0.0)\n",
            "Collecting unittest2 (from batchgenerators>=0.23->nnunet)\n",
            "  Downloading unittest2-1.1.0-py2.py3-none-any.whl.metadata (15 kB)\n",
            "Requirement already satisfied: threadpoolctl in /usr/local/lib/python3.10/dist-packages (from batchgenerators>=0.23->nnunet) (3.5.0)\n",
            "Requirement already satisfied: networkx>=3.0 in /usr/local/lib/python3.10/dist-packages (from scikit-image>=0.14->nnunet) (3.4.2)\n",
            "Requirement already satisfied: imageio!=2.35.0,>=2.33 in /usr/local/lib/python3.10/dist-packages (from scikit-image>=0.14->nnunet) (2.36.1)\n",
            "Requirement already satisfied: packaging>=21 in /usr/local/lib/python3.10/dist-packages (from scikit-image>=0.14->nnunet) (24.2)\n",
            "Requirement already satisfied: lazy-loader>=0.4 in /usr/local/lib/python3.10/dist-packages (from scikit-image>=0.14->nnunet) (0.4)\n",
            "Requirement already satisfied: filelock in /usr/local/lib/python3.10/dist-packages (from torch>1.10.0->nnunet) (3.16.1)\n",
            "Requirement already satisfied: typing-extensions>=4.8.0 in /usr/local/lib/python3.10/dist-packages (from torch>1.10.0->nnunet) (4.12.2)\n",
            "Requirement already satisfied: jinja2 in /usr/local/lib/python3.10/dist-packages (from torch>1.10.0->nnunet) (3.1.4)\n",
            "Requirement already satisfied: fsspec in /usr/local/lib/python3.10/dist-packages (from torch>1.10.0->nnunet) (2024.10.0)\n",
            "Requirement already satisfied: sympy==1.13.1 in /usr/local/lib/python3.10/dist-packages (from torch>1.10.0->nnunet) (1.13.1)\n",
            "Requirement already satisfied: mpmath<1.4,>=1.1.0 in /usr/local/lib/python3.10/dist-packages (from sympy==1.13.1->torch>1.10.0->nnunet) (1.3.0)\n",
            "Collecting pydicom>=2.2.0 (from dicom2nifti->nnunet)\n",
            "  Downloading pydicom-3.0.1-py3-none-any.whl.metadata (9.4 kB)\n",
            "Collecting python-gdcm (from dicom2nifti->nnunet)\n",
            "  Downloading python_gdcm-3.0.24.1-cp310-cp310-manylinux_2_17_x86_64.manylinux2014_x86_64.whl.metadata (3.7 kB)\n",
            "Requirement already satisfied: contourpy>=1.0.1 in /usr/local/lib/python3.10/dist-packages (from matplotlib->nnunet) (1.3.1)\n",
            "Requirement already satisfied: cycler>=0.10 in /usr/local/lib/python3.10/dist-packages (from matplotlib->nnunet) (0.12.1)\n",
            "Requirement already satisfied: fonttools>=4.22.0 in /usr/local/lib/python3.10/dist-packages (from matplotlib->nnunet) (4.55.3)\n",
            "Requirement already satisfied: kiwisolver>=1.0.1 in /usr/local/lib/python3.10/dist-packages (from matplotlib->nnunet) (1.4.7)\n",
            "Requirement already satisfied: pyparsing>=2.3.1 in /usr/local/lib/python3.10/dist-packages (from matplotlib->nnunet) (3.2.0)\n",
            "Requirement already satisfied: python-dateutil>=2.7 in /usr/local/lib/python3.10/dist-packages (from matplotlib->nnunet) (2.8.2)\n",
            "Requirement already satisfied: importlib-resources>=5.12 in /usr/local/lib/python3.10/dist-packages (from nibabel->nnunet) (6.4.5)\n",
            "Requirement already satisfied: pytz>=2020.1 in /usr/local/lib/python3.10/dist-packages (from pandas->nnunet) (2024.2)\n",
            "Requirement already satisfied: tzdata>=2022.7 in /usr/local/lib/python3.10/dist-packages (from pandas->nnunet) (2024.2)\n",
            "Requirement already satisfied: charset-normalizer<4,>=2 in /usr/local/lib/python3.10/dist-packages (from requests->nnunet) (3.4.0)\n",
            "Requirement already satisfied: idna<4,>=2.5 in /usr/local/lib/python3.10/dist-packages (from requests->nnunet) (3.10)\n",
            "Requirement already satisfied: urllib3<3,>=1.21.1 in /usr/local/lib/python3.10/dist-packages (from requests->nnunet) (2.2.3)\n",
            "Requirement already satisfied: certifi>=2017.4.17 in /usr/local/lib/python3.10/dist-packages (from requests->nnunet) (2024.12.14)\n",
            "Requirement already satisfied: joblib>=1.2.0 in /usr/local/lib/python3.10/dist-packages (from scikit-learn->nnunet) (1.4.2)\n",
            "Requirement already satisfied: six>=1.5 in /usr/local/lib/python3.10/dist-packages (from python-dateutil>=2.7->matplotlib->nnunet) (1.17.0)\n",
            "Requirement already satisfied: MarkupSafe>=2.0 in /usr/local/lib/python3.10/dist-packages (from jinja2->torch>1.10.0->nnunet) (3.0.2)\n",
            "Collecting argparse (from unittest2->batchgenerators>=0.23->nnunet)\n",
            "  Downloading argparse-1.4.0-py2.py3-none-any.whl.metadata (2.8 kB)\n",
            "Collecting traceback2 (from unittest2->batchgenerators>=0.23->nnunet)\n",
            "  Downloading traceback2-1.4.0-py2.py3-none-any.whl.metadata (1.5 kB)\n",
            "Collecting linecache2 (from traceback2->unittest2->batchgenerators>=0.23->nnunet)\n",
            "  Downloading linecache2-1.0.0-py2.py3-none-any.whl.metadata (1000 bytes)\n",
            "Downloading dicom2nifti-2.5.1-py3-none-any.whl (43 kB)\n",
            "\u001b[2K   \u001b[90m━━━━━━━━━━━━━━━━━━━━━━━━━━━━━━━━━━━━━━━━\u001b[0m \u001b[32m43.6/43.6 kB\u001b[0m \u001b[31m2.9 MB/s\u001b[0m eta \u001b[36m0:00:00\u001b[0m\n",
            "\u001b[?25hDownloading SimpleITK-2.4.0-cp310-cp310-manylinux_2_17_x86_64.manylinux2014_x86_64.whl (52.4 MB)\n",
            "\u001b[2K   \u001b[90m━━━━━━━━━━━━━━━━━━━━━━━━━━━━━━━━━━━━━━━━\u001b[0m \u001b[32m52.4/52.4 MB\u001b[0m \u001b[31m16.1 MB/s\u001b[0m eta \u001b[36m0:00:00\u001b[0m\n",
            "\u001b[?25hDownloading pydicom-3.0.1-py3-none-any.whl (2.4 MB)\n",
            "\u001b[2K   \u001b[90m━━━━━━━━━━━━━━━━━━━━━━━━━━━━━━━━━━━━━━━━\u001b[0m \u001b[32m2.4/2.4 MB\u001b[0m \u001b[31m49.3 MB/s\u001b[0m eta \u001b[36m0:00:00\u001b[0m\n",
            "\u001b[?25hDownloading python_gdcm-3.0.24.1-cp310-cp310-manylinux_2_17_x86_64.manylinux2014_x86_64.whl (13.1 MB)\n",
            "\u001b[2K   \u001b[90m━━━━━━━━━━━━━━━━━━━━━━━━━━━━━━━━━━━━━━━━\u001b[0m \u001b[32m13.1/13.1 MB\u001b[0m \u001b[31m58.2 MB/s\u001b[0m eta \u001b[36m0:00:00\u001b[0m\n",
            "\u001b[?25hDownloading unittest2-1.1.0-py2.py3-none-any.whl (96 kB)\n",
            "\u001b[2K   \u001b[90m━━━━━━━━━━━━━━━━━━━━━━━━━━━━━━━━━━━━━━━━\u001b[0m \u001b[32m96.4/96.4 kB\u001b[0m \u001b[31m5.4 MB/s\u001b[0m eta \u001b[36m0:00:00\u001b[0m\n",
            "\u001b[?25hDownloading argparse-1.4.0-py2.py3-none-any.whl (23 kB)\n",
            "Downloading traceback2-1.4.0-py2.py3-none-any.whl (16 kB)\n",
            "Downloading linecache2-1.0.0-py2.py3-none-any.whl (12 kB)\n",
            "Building wheels for collected packages: nnunet, batchgenerators, medpy\n",
            "  Building wheel for nnunet (setup.py) ... \u001b[?25l\u001b[?25hdone\n",
            "  Created wheel for nnunet: filename=nnunet-1.7.1-py3-none-any.whl size=531260 sha256=436506ee8992955098ad30a98e12b6c770a2acc7a8e55d67c7083539be2876e8\n",
            "  Stored in directory: /root/.cache/pip/wheels/0e/21/5a/48b9c7298aa4ea109aafb375f8e97b67c5b0921fa533672fd0\n",
            "  Building wheel for batchgenerators (setup.py) ... \u001b[?25l\u001b[?25hdone\n",
            "  Created wheel for batchgenerators: filename=batchgenerators-0.25.1-py3-none-any.whl size=93088 sha256=2ce92d9166b9af10f0eb2e1bad7eeebd061b90a8a847627ca5736a8d52ce7b04\n",
            "  Stored in directory: /root/.cache/pip/wheels/be/1b/30/b3f066999ad01855fc903fe7c93c25682333dd5645d5c75434\n",
            "  Building wheel for medpy (setup.py) ... \u001b[?25l\u001b[?25hdone\n",
            "  Created wheel for medpy: filename=MedPy-0.5.2-cp310-cp310-linux_x86_64.whl size=762843 sha256=050c4f312a1f5abf4dd48e2445310da81e8feea1afa30c15b1a63ff17439c531\n",
            "  Stored in directory: /root/.cache/pip/wheels/a1/b8/63/bdf557940ec60d1b8822e73ff9fbe7727ac19f009d46b5d175\n",
            "Successfully built nnunet batchgenerators medpy\n",
            "Installing collected packages: SimpleITK, linecache2, argparse, traceback2, python-gdcm, pydicom, unittest2, medpy, dicom2nifti, batchgenerators, nnunet\n",
            "Successfully installed SimpleITK-2.4.0 argparse-1.4.0 batchgenerators-0.25.1 dicom2nifti-2.5.1 linecache2-1.0.0 medpy-0.5.2 nnunet-1.7.1 pydicom-3.0.1 python-gdcm-3.0.24.1 traceback2-1.4.0 unittest2-1.1.0\n"
          ]
        },
        {
          "output_type": "display_data",
          "data": {
            "application/vnd.colab-display-data+json": {
              "pip_warning": {
                "packages": [
                  "argparse"
                ]
              },
              "id": "e8c78640b4ef45a3a05e59a1a9dd1060"
            }
          },
          "metadata": {}
        }
      ]
    },
    {
      "cell_type": "code",
      "source": [
        "!pip install dcm2niix"
      ],
      "metadata": {
        "colab": {
          "base_uri": "https://localhost:8080/"
        },
        "id": "cnBVIp17xiih",
        "outputId": "b7769555-31a9-4a75-bd46-48dbd3b38260"
      },
      "execution_count": 2,
      "outputs": [
        {
          "output_type": "stream",
          "name": "stdout",
          "text": [
            "Collecting dcm2niix\n",
            "  Downloading dcm2niix-1.0.20241211.tar.gz (539 kB)\n",
            "\u001b[?25l     \u001b[90m━━━━━━━━━━━━━━━━━━━━━━━━━━━━━━━━━━━━━━━━\u001b[0m \u001b[32m0.0/539.1 kB\u001b[0m \u001b[31m?\u001b[0m eta \u001b[36m-:--:--\u001b[0m\r\u001b[2K     \u001b[91m━━━━━━━━━━\u001b[0m\u001b[91m╸\u001b[0m\u001b[90m━━━━━━━━━━━━━━━━━━━━━━━━━━━━━\u001b[0m \u001b[32m143.4/539.1 kB\u001b[0m \u001b[31m4.8 MB/s\u001b[0m eta \u001b[36m0:00:01\u001b[0m\r\u001b[2K     \u001b[91m━━━━━━━━━━━━━━━━━━━━━━━━━━━━━━━━━━━━━━━\u001b[0m\u001b[91m╸\u001b[0m \u001b[32m532.5/539.1 kB\u001b[0m \u001b[31m7.7 MB/s\u001b[0m eta \u001b[36m0:00:01\u001b[0m\r\u001b[2K     \u001b[90m━━━━━━━━━━━━━━━━━━━━━━━━━━━━━━━━━━━━━━━━\u001b[0m \u001b[32m539.1/539.1 kB\u001b[0m \u001b[31m5.8 MB/s\u001b[0m eta \u001b[36m0:00:00\u001b[0m\n",
            "\u001b[?25h  Installing build dependencies ... \u001b[?25l\u001b[?25hdone\n",
            "  Getting requirements to build wheel ... \u001b[?25l\u001b[?25hdone\n",
            "  Preparing metadata (pyproject.toml) ... \u001b[?25l\u001b[?25hdone\n",
            "Building wheels for collected packages: dcm2niix\n",
            "  Building wheel for dcm2niix (pyproject.toml) ... \u001b[?25l\u001b[?25hdone\n",
            "  Created wheel for dcm2niix: filename=dcm2niix-1.0.20241211-cp310-cp310-linux_x86_64.whl size=587132 sha256=947bc16d6c2adca2891abaf69f4bd61694dffd757b02e033910dcb3c8e48f30b\n",
            "  Stored in directory: /root/.cache/pip/wheels/4a/d1/26/bc7c435eee027a0b52360aeb811f2a64f59270caa7715e84c1\n",
            "Successfully built dcm2niix\n",
            "Installing collected packages: dcm2niix\n",
            "Successfully installed dcm2niix-1.0.20241211\n"
          ]
        }
      ]
    },
    {
      "cell_type": "code",
      "source": [
        "!pip install medpy"
      ],
      "metadata": {
        "collapsed": true,
        "colab": {
          "base_uri": "https://localhost:8080/"
        },
        "id": "bsX6Sgdckojx",
        "outputId": "737806c7-732a-4e91-934e-fada328e8274"
      },
      "execution_count": 3,
      "outputs": [
        {
          "output_type": "stream",
          "name": "stdout",
          "text": [
            "Requirement already satisfied: medpy in /usr/local/lib/python3.10/dist-packages (0.5.2)\n",
            "Requirement already satisfied: scipy>=1.10 in /usr/local/lib/python3.10/dist-packages (from medpy) (1.13.1)\n",
            "Requirement already satisfied: numpy>=1.24 in /usr/local/lib/python3.10/dist-packages (from medpy) (1.26.4)\n",
            "Requirement already satisfied: SimpleITK>=2.1 in /usr/local/lib/python3.10/dist-packages (from medpy) (2.4.0)\n"
          ]
        }
      ]
    },
    {
      "cell_type": "code",
      "source": [
        "!apt-get install -qq xvfb libgl1-mesa-glx\n",
        "!pip install pyvista -qq\n",
        "import pyvista"
      ],
      "metadata": {
        "colab": {
          "base_uri": "https://localhost:8080/"
        },
        "collapsed": true,
        "id": "EXDf--NWkEt9",
        "outputId": "7101e4e0-2564-482d-9bff-a1d480e56cd2"
      },
      "execution_count": 4,
      "outputs": [
        {
          "output_type": "stream",
          "name": "stdout",
          "text": [
            "Selecting previously unselected package libfontenc1:amd64.\n",
            "(Reading database ... 123635 files and directories currently installed.)\n",
            "Preparing to unpack .../0-libfontenc1_1%3a1.1.4-1build3_amd64.deb ...\n",
            "Unpacking libfontenc1:amd64 (1:1.1.4-1build3) ...\n",
            "Selecting previously unselected package libgl1-mesa-glx:amd64.\n",
            "Preparing to unpack .../1-libgl1-mesa-glx_23.0.4-0ubuntu1~22.04.1_amd64.deb ...\n",
            "Unpacking libgl1-mesa-glx:amd64 (23.0.4-0ubuntu1~22.04.1) ...\n",
            "Selecting previously unselected package libxfont2:amd64.\n",
            "Preparing to unpack .../2-libxfont2_1%3a2.0.5-1build1_amd64.deb ...\n",
            "Unpacking libxfont2:amd64 (1:2.0.5-1build1) ...\n",
            "Selecting previously unselected package libxkbfile1:amd64.\n",
            "Preparing to unpack .../3-libxkbfile1_1%3a1.1.0-1build3_amd64.deb ...\n",
            "Unpacking libxkbfile1:amd64 (1:1.1.0-1build3) ...\n",
            "Selecting previously unselected package x11-xkb-utils.\n",
            "Preparing to unpack .../4-x11-xkb-utils_7.7+5build4_amd64.deb ...\n",
            "Unpacking x11-xkb-utils (7.7+5build4) ...\n",
            "Selecting previously unselected package xfonts-encodings.\n",
            "Preparing to unpack .../5-xfonts-encodings_1%3a1.0.5-0ubuntu2_all.deb ...\n",
            "Unpacking xfonts-encodings (1:1.0.5-0ubuntu2) ...\n",
            "Selecting previously unselected package xfonts-utils.\n",
            "Preparing to unpack .../6-xfonts-utils_1%3a7.7+6build2_amd64.deb ...\n",
            "Unpacking xfonts-utils (1:7.7+6build2) ...\n",
            "Selecting previously unselected package xfonts-base.\n",
            "Preparing to unpack .../7-xfonts-base_1%3a1.0.5_all.deb ...\n",
            "Unpacking xfonts-base (1:1.0.5) ...\n",
            "Selecting previously unselected package xserver-common.\n",
            "Preparing to unpack .../8-xserver-common_2%3a21.1.4-2ubuntu1.7~22.04.12_all.deb ...\n",
            "Unpacking xserver-common (2:21.1.4-2ubuntu1.7~22.04.12) ...\n",
            "Selecting previously unselected package xvfb.\n",
            "Preparing to unpack .../9-xvfb_2%3a21.1.4-2ubuntu1.7~22.04.12_amd64.deb ...\n",
            "Unpacking xvfb (2:21.1.4-2ubuntu1.7~22.04.12) ...\n",
            "Setting up libfontenc1:amd64 (1:1.1.4-1build3) ...\n",
            "Setting up xfonts-encodings (1:1.0.5-0ubuntu2) ...\n",
            "Setting up libgl1-mesa-glx:amd64 (23.0.4-0ubuntu1~22.04.1) ...\n",
            "Setting up libxkbfile1:amd64 (1:1.1.0-1build3) ...\n",
            "Setting up libxfont2:amd64 (1:2.0.5-1build1) ...\n",
            "Setting up x11-xkb-utils (7.7+5build4) ...\n",
            "Setting up xfonts-utils (1:7.7+6build2) ...\n",
            "Setting up xfonts-base (1:1.0.5) ...\n",
            "Setting up xserver-common (2:21.1.4-2ubuntu1.7~22.04.12) ...\n",
            "Setting up xvfb (2:21.1.4-2ubuntu1.7~22.04.12) ...\n",
            "Processing triggers for man-db (2.10.2-1) ...\n",
            "Processing triggers for fontconfig (2.13.1-4.2ubuntu5) ...\n",
            "Processing triggers for libc-bin (2.35-0ubuntu3.4) ...\n",
            "/sbin/ldconfig.real: /usr/local/lib/libur_adapter_opencl.so.0 is not a symbolic link\n",
            "\n",
            "/sbin/ldconfig.real: /usr/local/lib/libtbbmalloc.so.2 is not a symbolic link\n",
            "\n",
            "/sbin/ldconfig.real: /usr/local/lib/libur_loader.so.0 is not a symbolic link\n",
            "\n",
            "/sbin/ldconfig.real: /usr/local/lib/libumf.so.0 is not a symbolic link\n",
            "\n",
            "/sbin/ldconfig.real: /usr/local/lib/libtcm.so.1 is not a symbolic link\n",
            "\n",
            "/sbin/ldconfig.real: /usr/local/lib/libtbb.so.12 is not a symbolic link\n",
            "\n",
            "/sbin/ldconfig.real: /usr/local/lib/libtbbbind_2_0.so.3 is not a symbolic link\n",
            "\n",
            "/sbin/ldconfig.real: /usr/local/lib/libtcm_debug.so.1 is not a symbolic link\n",
            "\n",
            "/sbin/ldconfig.real: /usr/local/lib/libur_adapter_level_zero.so.0 is not a symbolic link\n",
            "\n",
            "/sbin/ldconfig.real: /usr/local/lib/libtbbbind_2_5.so.3 is not a symbolic link\n",
            "\n",
            "/sbin/ldconfig.real: /usr/local/lib/libtbbbind.so.3 is not a symbolic link\n",
            "\n",
            "/sbin/ldconfig.real: /usr/local/lib/libhwloc.so.15 is not a symbolic link\n",
            "\n",
            "/sbin/ldconfig.real: /usr/local/lib/libtbbmalloc_proxy.so.2 is not a symbolic link\n",
            "\n",
            "\u001b[2K   \u001b[90m━━━━━━━━━━━━━━━━━━━━━━━━━━━━━━━━━━━━━━━━\u001b[0m \u001b[32m2.2/2.2 MB\u001b[0m \u001b[31m22.4 MB/s\u001b[0m eta \u001b[36m0:00:00\u001b[0m\n",
            "\u001b[2K   \u001b[90m━━━━━━━━━━━━━━━━━━━━━━━━━━━━━━━━━━━━━━━━\u001b[0m \u001b[32m92.1/92.1 MB\u001b[0m \u001b[31m6.1 MB/s\u001b[0m eta \u001b[36m0:00:00\u001b[0m\n",
            "\u001b[?25h"
          ]
        }
      ]
    },
    {
      "cell_type": "code",
      "execution_count": 5,
      "metadata": {
        "id": "VdiEboXZNTuF",
        "collapsed": true,
        "colab": {
          "base_uri": "https://localhost:8080/"
        },
        "outputId": "2cca184f-ef5e-41e6-e0d2-8eca9840e848"
      },
      "outputs": [
        {
          "output_type": "stream",
          "name": "stdout",
          "text": [
            "\n",
            "\n",
            "Please cite the following paper when using nnUNet:\n",
            "\n",
            "Isensee, F., Jaeger, P.F., Kohl, S.A.A. et al. \"nnU-Net: a self-configuring method for deep learning-based biomedical image segmentation.\" Nat Methods (2020). https://doi.org/10.1038/s41592-020-01008-z\n",
            "\n",
            "\n",
            "If you have questions or suggestions, feel free to open an issue at https://github.com/MIC-DKFZ/nnUNet\n",
            "\n"
          ]
        }
      ],
      "source": [
        "import torch\n",
        "import nnunet\n",
        "import dcm2niix\n",
        "import nibabel\n",
        "import numpy as np\n",
        "import pyvista as pv\n",
        "import vtk\n",
        "import medpy\n",
        "import matplotlib.pyplot as plt"
      ]
    },
    {
      "cell_type": "markdown",
      "source": [
        "# Dicom to nifti"
      ],
      "metadata": {
        "id": "As7FhEm9I3NW"
      }
    },
    {
      "cell_type": "code",
      "source": [
        "!git clone https://github.com/ClemoAcevedo/cardiac-segmentation.git"
      ],
      "metadata": {
        "colab": {
          "base_uri": "https://localhost:8080/"
        },
        "id": "e6cXwRRdJxR0",
        "outputId": "ee888373-fd0d-47ea-b6bf-189e2d0e2d0e"
      },
      "execution_count": 6,
      "outputs": [
        {
          "output_type": "stream",
          "name": "stdout",
          "text": [
            "Cloning into 'cardiac-segmentation'...\n",
            "remote: Enumerating objects: 13, done.\u001b[K\n",
            "remote: Counting objects: 100% (13/13), done.\u001b[K\n",
            "remote: Compressing objects: 100% (9/9), done.\u001b[K\n",
            "remote: Total 13 (delta 1), reused 10 (delta 1), pack-reused 0 (from 0)\u001b[K\n",
            "Receiving objects: 100% (13/13), 10.05 KiB | 2.01 MiB/s, done.\n",
            "Resolving deltas: 100% (1/1), done.\n"
          ]
        }
      ]
    },
    {
      "cell_type": "code",
      "source": [
        "!python /content/cardiac-segmentation/dicom_to_nifti.py --input_dir /content/dicom --output_dir /content"
      ],
      "metadata": {
        "colab": {
          "base_uri": "https://localhost:8080/"
        },
        "id": "lX8k6IivKIbn",
        "outputId": "7da3ff96-34cf-420c-98b9-c82b8365be29"
      },
      "execution_count": 7,
      "outputs": [
        {
          "output_type": "stream",
          "name": "stdout",
          "text": [
            "Convirtiendo archivos DICOM de dicom a NIfTI...\n",
            "Chris Rorden's dcm2niiX version v1.0.20241211  GCC11.4.0 x86-64 (64-bit Linux)\n",
            "Found 1 DICOM file(s)\n",
            "Warning: Philips enhanced DICOMs (hint: export as classic DICOM)\n",
            "Philips Scaling Values RS:RI:SS = 3.11087:0:0.0955078 (see PMC3998685)\n",
            "Convert 1 DICOM as salida/imagenes/dicom_sBTFE_BH_EC_20230130183159_701 (384x384x14x1)\n",
            "Philips Scaling Values RS:RI:SS = 3.11087:0:0.0955078 (see PMC3998685)\n",
            "Convert 1 DICOM as salida/imagenes/dicom_sBTFE_BH_EC_20230130183159_701_t32 (384x384x14x1)\n",
            "Philips Scaling Values RS:RI:SS = 3.11087:0:0.0955078 (see PMC3998685)\n",
            "Convert 1 DICOM as salida/imagenes/dicom_sBTFE_BH_EC_20230130183159_701_t64 (384x384x14x1)\n",
            "Philips Scaling Values RS:RI:SS = 3.11087:0:0.0955078 (see PMC3998685)\n",
            "Convert 1 DICOM as salida/imagenes/dicom_sBTFE_BH_EC_20230130183159_701_t96 (384x384x14x1)\n",
            "Philips Scaling Values RS:RI:SS = 3.11087:0:0.0955078 (see PMC3998685)\n",
            "Convert 1 DICOM as salida/imagenes/dicom_sBTFE_BH_EC_20230130183159_701_t129 (384x384x14x1)\n",
            "Philips Scaling Values RS:RI:SS = 3.11087:0:0.0955078 (see PMC3998685)\n",
            "Convert 1 DICOM as salida/imagenes/dicom_sBTFE_BH_EC_20230130183159_701_t161 (384x384x14x1)\n",
            "Philips Scaling Values RS:RI:SS = 3.11087:0:0.0955078 (see PMC3998685)\n",
            "Convert 1 DICOM as salida/imagenes/dicom_sBTFE_BH_EC_20230130183159_701_t193 (384x384x14x1)\n",
            "Philips Scaling Values RS:RI:SS = 3.11087:0:0.0955078 (see PMC3998685)\n",
            "Convert 1 DICOM as salida/imagenes/dicom_sBTFE_BH_EC_20230130183159_701_t225 (384x384x14x1)\n",
            "Philips Scaling Values RS:RI:SS = 3.11087:0:0.0955078 (see PMC3998685)\n",
            "Convert 1 DICOM as salida/imagenes/dicom_sBTFE_BH_EC_20230130183159_701_t257 (384x384x14x1)\n",
            "Philips Scaling Values RS:RI:SS = 3.11087:0:0.0955078 (see PMC3998685)\n",
            "Convert 1 DICOM as salida/imagenes/dicom_sBTFE_BH_EC_20230130183159_701_t289 (384x384x14x1)\n",
            "Philips Scaling Values RS:RI:SS = 3.11087:0:0.0955078 (see PMC3998685)\n",
            "Convert 1 DICOM as salida/imagenes/dicom_sBTFE_BH_EC_20230130183159_701_t321 (384x384x14x1)\n",
            "Philips Scaling Values RS:RI:SS = 3.11087:0:0.0955078 (see PMC3998685)\n",
            "Convert 1 DICOM as salida/imagenes/dicom_sBTFE_BH_EC_20230130183159_701_t353 (384x384x14x1)\n",
            "Philips Scaling Values RS:RI:SS = 3.11087:0:0.0955078 (see PMC3998685)\n",
            "Convert 1 DICOM as salida/imagenes/dicom_sBTFE_BH_EC_20230130183159_701_t386 (384x384x14x1)\n",
            "Philips Scaling Values RS:RI:SS = 3.11087:0:0.0955078 (see PMC3998685)\n",
            "Convert 1 DICOM as salida/imagenes/dicom_sBTFE_BH_EC_20230130183159_701_t418 (384x384x14x1)\n",
            "Philips Scaling Values RS:RI:SS = 3.11087:0:0.0955078 (see PMC3998685)\n",
            "Convert 1 DICOM as salida/imagenes/dicom_sBTFE_BH_EC_20230130183159_701_t450 (384x384x14x1)\n",
            "Philips Scaling Values RS:RI:SS = 3.11087:0:0.0955078 (see PMC3998685)\n",
            "Convert 1 DICOM as salida/imagenes/dicom_sBTFE_BH_EC_20230130183159_701_t482 (384x384x14x1)\n",
            "Philips Scaling Values RS:RI:SS = 3.11087:0:0.0955078 (see PMC3998685)\n",
            "Convert 1 DICOM as salida/imagenes/dicom_sBTFE_BH_EC_20230130183159_701_t514 (384x384x14x1)\n",
            "Philips Scaling Values RS:RI:SS = 3.11087:0:0.0955078 (see PMC3998685)\n",
            "Convert 1 DICOM as salida/imagenes/dicom_sBTFE_BH_EC_20230130183159_701_t546 (384x384x14x1)\n",
            "Philips Scaling Values RS:RI:SS = 3.11087:0:0.0955078 (see PMC3998685)\n",
            "Convert 1 DICOM as salida/imagenes/dicom_sBTFE_BH_EC_20230130183159_701_t578 (384x384x14x1)\n",
            "Philips Scaling Values RS:RI:SS = 3.11087:0:0.0955078 (see PMC3998685)\n",
            "Convert 1 DICOM as salida/imagenes/dicom_sBTFE_BH_EC_20230130183159_701_t611 (384x384x14x1)\n",
            "Philips Scaling Values RS:RI:SS = 3.11087:0:0.0955078 (see PMC3998685)\n",
            "Convert 1 DICOM as salida/imagenes/dicom_sBTFE_BH_EC_20230130183159_701_t643 (384x384x14x1)\n",
            "Philips Scaling Values RS:RI:SS = 3.11087:0:0.0955078 (see PMC3998685)\n",
            "Convert 1 DICOM as salida/imagenes/dicom_sBTFE_BH_EC_20230130183159_701_t675 (384x384x14x1)\n",
            "Philips Scaling Values RS:RI:SS = 3.11087:0:0.0955078 (see PMC3998685)\n",
            "Convert 1 DICOM as salida/imagenes/dicom_sBTFE_BH_EC_20230130183159_701_t707 (384x384x14x1)\n",
            "Philips Scaling Values RS:RI:SS = 3.11087:0:0.0955078 (see PMC3998685)\n",
            "Convert 1 DICOM as salida/imagenes/dicom_sBTFE_BH_EC_20230130183159_701_t739 (384x384x14x1)\n",
            "Philips Scaling Values RS:RI:SS = 3.11087:0:0.0955078 (see PMC3998685)\n",
            "Convert 1 DICOM as salida/imagenes/dicom_sBTFE_BH_EC_20230130183159_701_t771 (384x384x14x1)\n",
            "Philips Scaling Values RS:RI:SS = 3.11087:0:0.0955078 (see PMC3998685)\n",
            "Convert 1 DICOM as salida/imagenes/dicom_sBTFE_BH_EC_20230130183159_701_t803 (384x384x14x1)\n",
            "Philips Scaling Values RS:RI:SS = 3.11087:0:0.0955078 (see PMC3998685)\n",
            "Convert 1 DICOM as salida/imagenes/dicom_sBTFE_BH_EC_20230130183159_701_t836 (384x384x14x1)\n",
            "Philips Scaling Values RS:RI:SS = 3.11087:0:0.0955078 (see PMC3998685)\n",
            "Convert 1 DICOM as salida/imagenes/dicom_sBTFE_BH_EC_20230130183159_701_t868 (384x384x14x1)\n",
            "Philips Scaling Values RS:RI:SS = 3.11087:0:0.0955078 (see PMC3998685)\n",
            "Convert 1 DICOM as salida/imagenes/dicom_sBTFE_BH_EC_20230130183159_701_t900 (384x384x14x1)\n",
            "Philips Scaling Values RS:RI:SS = 3.11087:0:0.0955078 (see PMC3998685)\n",
            "Convert 1 DICOM as salida/imagenes/dicom_sBTFE_BH_EC_20230130183159_701_t932 (384x384x14x1)\n",
            "Conversion required 24.475385 seconds (23.834368 for core code).\n",
            "Renombrado NIfTI: salida/imagenes/dicom_sBTFE_BH_EC_20230130183159_701_t771.nii.gz -> salida/imagenes/time_01_0000.nii.gz\n",
            "Renombrado y movido JSON: salida/imagenes/dicom_sBTFE_BH_EC_20230130183159_701_t771.json -> salida/json/time_01_0000.json\n",
            "Renombrado NIfTI: salida/imagenes/dicom_sBTFE_BH_EC_20230130183159_701_t289.nii.gz -> salida/imagenes/time_02_0000.nii.gz\n",
            "Renombrado y movido JSON: salida/imagenes/dicom_sBTFE_BH_EC_20230130183159_701_t289.json -> salida/json/time_02_0000.json\n",
            "Renombrado NIfTI: salida/imagenes/dicom_sBTFE_BH_EC_20230130183159_701_t739.nii.gz -> salida/imagenes/time_03_0000.nii.gz\n",
            "Renombrado y movido JSON: salida/imagenes/dicom_sBTFE_BH_EC_20230130183159_701_t739.json -> salida/json/time_03_0000.json\n",
            "Renombrado NIfTI: salida/imagenes/dicom_sBTFE_BH_EC_20230130183159_701_t32.nii.gz -> salida/imagenes/time_04_0000.nii.gz\n",
            "Renombrado y movido JSON: salida/imagenes/dicom_sBTFE_BH_EC_20230130183159_701_t32.json -> salida/json/time_04_0000.json\n",
            "Renombrado NIfTI: salida/imagenes/dicom_sBTFE_BH_EC_20230130183159_701_t868.nii.gz -> salida/imagenes/time_05_0000.nii.gz\n",
            "Renombrado y movido JSON: salida/imagenes/dicom_sBTFE_BH_EC_20230130183159_701_t868.json -> salida/json/time_05_0000.json\n",
            "Renombrado NIfTI: salida/imagenes/dicom_sBTFE_BH_EC_20230130183159_701_t386.nii.gz -> salida/imagenes/time_06_0000.nii.gz\n",
            "Renombrado y movido JSON: salida/imagenes/dicom_sBTFE_BH_EC_20230130183159_701_t386.json -> salida/json/time_06_0000.json\n",
            "Renombrado NIfTI: salida/imagenes/dicom_sBTFE_BH_EC_20230130183159_701_t64.nii.gz -> salida/imagenes/time_07_0000.nii.gz\n",
            "Renombrado y movido JSON: salida/imagenes/dicom_sBTFE_BH_EC_20230130183159_701_t64.json -> salida/json/time_07_0000.json\n",
            "Renombrado NIfTI: salida/imagenes/dicom_sBTFE_BH_EC_20230130183159_701_t611.nii.gz -> salida/imagenes/time_08_0000.nii.gz\n",
            "Renombrado y movido JSON: salida/imagenes/dicom_sBTFE_BH_EC_20230130183159_701_t611.json -> salida/json/time_08_0000.json\n",
            "Renombrado NIfTI: salida/imagenes/dicom_sBTFE_BH_EC_20230130183159_701_t225.nii.gz -> salida/imagenes/time_09_0000.nii.gz\n",
            "Renombrado y movido JSON: salida/imagenes/dicom_sBTFE_BH_EC_20230130183159_701_t225.json -> salida/json/time_09_0000.json\n",
            "Renombrado NIfTI: salida/imagenes/dicom_sBTFE_BH_EC_20230130183159_701_t193.nii.gz -> salida/imagenes/time_10_0000.nii.gz\n",
            "Renombrado y movido JSON: salida/imagenes/dicom_sBTFE_BH_EC_20230130183159_701_t193.json -> salida/json/time_10_0000.json\n",
            "Renombrado NIfTI: salida/imagenes/dicom_sBTFE_BH_EC_20230130183159_701_t161.nii.gz -> salida/imagenes/time_11_0000.nii.gz\n",
            "Renombrado y movido JSON: salida/imagenes/dicom_sBTFE_BH_EC_20230130183159_701_t161.json -> salida/json/time_11_0000.json\n",
            "Renombrado NIfTI: salida/imagenes/dicom_sBTFE_BH_EC_20230130183159_701_t643.nii.gz -> salida/imagenes/time_12_0000.nii.gz\n",
            "Renombrado y movido JSON: salida/imagenes/dicom_sBTFE_BH_EC_20230130183159_701_t643.json -> salida/json/time_12_0000.json\n",
            "Renombrado NIfTI: salida/imagenes/dicom_sBTFE_BH_EC_20230130183159_701_t418.nii.gz -> salida/imagenes/time_13_0000.nii.gz\n",
            "Renombrado y movido JSON: salida/imagenes/dicom_sBTFE_BH_EC_20230130183159_701_t418.json -> salida/json/time_13_0000.json\n",
            "Renombrado NIfTI: salida/imagenes/dicom_sBTFE_BH_EC_20230130183159_701_t803.nii.gz -> salida/imagenes/time_14_0000.nii.gz\n",
            "Renombrado y movido JSON: salida/imagenes/dicom_sBTFE_BH_EC_20230130183159_701_t803.json -> salida/json/time_14_0000.json\n",
            "Renombrado NIfTI: salida/imagenes/dicom_sBTFE_BH_EC_20230130183159_701_t578.nii.gz -> salida/imagenes/time_15_0000.nii.gz\n",
            "Renombrado y movido JSON: salida/imagenes/dicom_sBTFE_BH_EC_20230130183159_701_t578.json -> salida/json/time_15_0000.json\n",
            "Renombrado NIfTI: salida/imagenes/dicom_sBTFE_BH_EC_20230130183159_701_t514.nii.gz -> salida/imagenes/time_16_0000.nii.gz\n",
            "Renombrado y movido JSON: salida/imagenes/dicom_sBTFE_BH_EC_20230130183159_701_t514.json -> salida/json/time_16_0000.json\n",
            "Renombrado NIfTI: salida/imagenes/dicom_sBTFE_BH_EC_20230130183159_701_t482.nii.gz -> salida/imagenes/time_17_0000.nii.gz\n",
            "Renombrado y movido JSON: salida/imagenes/dicom_sBTFE_BH_EC_20230130183159_701_t482.json -> salida/json/time_17_0000.json\n",
            "Renombrado NIfTI: salida/imagenes/dicom_sBTFE_BH_EC_20230130183159_701_t546.nii.gz -> salida/imagenes/time_18_0000.nii.gz\n",
            "Renombrado y movido JSON: salida/imagenes/dicom_sBTFE_BH_EC_20230130183159_701_t546.json -> salida/json/time_18_0000.json\n",
            "Renombrado NIfTI: salida/imagenes/dicom_sBTFE_BH_EC_20230130183159_701_t321.nii.gz -> salida/imagenes/time_19_0000.nii.gz\n",
            "Renombrado y movido JSON: salida/imagenes/dicom_sBTFE_BH_EC_20230130183159_701_t321.json -> salida/json/time_19_0000.json\n",
            "Renombrado NIfTI: salida/imagenes/dicom_sBTFE_BH_EC_20230130183159_701_t257.nii.gz -> salida/imagenes/time_20_0000.nii.gz\n",
            "Renombrado y movido JSON: salida/imagenes/dicom_sBTFE_BH_EC_20230130183159_701_t257.json -> salida/json/time_20_0000.json\n",
            "Renombrado NIfTI: salida/imagenes/dicom_sBTFE_BH_EC_20230130183159_701_t932.nii.gz -> salida/imagenes/time_21_0000.nii.gz\n",
            "Renombrado y movido JSON: salida/imagenes/dicom_sBTFE_BH_EC_20230130183159_701_t932.json -> salida/json/time_21_0000.json\n",
            "Renombrado NIfTI: salida/imagenes/dicom_sBTFE_BH_EC_20230130183159_701_t900.nii.gz -> salida/imagenes/time_22_0000.nii.gz\n",
            "Renombrado y movido JSON: salida/imagenes/dicom_sBTFE_BH_EC_20230130183159_701_t900.json -> salida/json/time_22_0000.json\n",
            "Renombrado NIfTI: salida/imagenes/dicom_sBTFE_BH_EC_20230130183159_701_t353.nii.gz -> salida/imagenes/time_23_0000.nii.gz\n",
            "Renombrado y movido JSON: salida/imagenes/dicom_sBTFE_BH_EC_20230130183159_701_t353.json -> salida/json/time_23_0000.json\n",
            "Renombrado NIfTI: salida/imagenes/dicom_sBTFE_BH_EC_20230130183159_701_t129.nii.gz -> salida/imagenes/time_24_0000.nii.gz\n",
            "Renombrado y movido JSON: salida/imagenes/dicom_sBTFE_BH_EC_20230130183159_701_t129.json -> salida/json/time_24_0000.json\n",
            "Renombrado NIfTI: salida/imagenes/dicom_sBTFE_BH_EC_20230130183159_701_t836.nii.gz -> salida/imagenes/time_25_0000.nii.gz\n",
            "Renombrado y movido JSON: salida/imagenes/dicom_sBTFE_BH_EC_20230130183159_701_t836.json -> salida/json/time_25_0000.json\n",
            "Renombrado NIfTI: salida/imagenes/dicom_sBTFE_BH_EC_20230130183159_701_t707.nii.gz -> salida/imagenes/time_26_0000.nii.gz\n",
            "Renombrado y movido JSON: salida/imagenes/dicom_sBTFE_BH_EC_20230130183159_701_t707.json -> salida/json/time_26_0000.json\n",
            "Renombrado NIfTI: salida/imagenes/dicom_sBTFE_BH_EC_20230130183159_701_t96.nii.gz -> salida/imagenes/time_27_0000.nii.gz\n",
            "Renombrado y movido JSON: salida/imagenes/dicom_sBTFE_BH_EC_20230130183159_701_t96.json -> salida/json/time_27_0000.json\n",
            "Renombrado NIfTI: salida/imagenes/dicom_sBTFE_BH_EC_20230130183159_701_t450.nii.gz -> salida/imagenes/time_28_0000.nii.gz\n",
            "Renombrado y movido JSON: salida/imagenes/dicom_sBTFE_BH_EC_20230130183159_701_t450.json -> salida/json/time_28_0000.json\n",
            "Renombrado NIfTI: salida/imagenes/dicom_sBTFE_BH_EC_20230130183159_701.nii.gz -> salida/imagenes/time_29_0000.nii.gz\n",
            "Renombrado y movido JSON: salida/imagenes/dicom_sBTFE_BH_EC_20230130183159_701.json -> salida/json/time_29_0000.json\n",
            "Renombrado NIfTI: salida/imagenes/dicom_sBTFE_BH_EC_20230130183159_701_t675.nii.gz -> salida/imagenes/time_30_0000.nii.gz\n",
            "Renombrado y movido JSON: salida/imagenes/dicom_sBTFE_BH_EC_20230130183159_701_t675.json -> salida/json/time_30_0000.json\n"
          ]
        }
      ]
    },
    {
      "cell_type": "markdown",
      "source": [
        "# Segmentación"
      ],
      "metadata": {
        "id": "aGs05yFrNvzJ"
      }
    },
    {
      "cell_type": "code",
      "source": [
        "# Create directories for nnU-Net\n",
        "!mkdir -p /content/nnUNet_trained_models\n",
        "!mkdir -p /content/nnUNet_raw_data_base/nnUNet_raw_data\n",
        "!mkdir -p /content/nnUNet_preprocessed\n",
        "\n",
        "# Download the pretrained model (Task027_ACDC) from Zenodo\n",
        "!wget -O /content/nnUNet_trained_models/Task027_ACDC.zip https://zenodo.org/record/4003545/files/Task027_ACDC.zip\n",
        "# Unzip the downloaded model files\n",
        "!unzip /content/nnUNet_trained_models/Task027_ACDC.zip -d /content/nnUNet_trained_models/\n"
      ],
      "metadata": {
        "id": "0Cs33GS8v_EF",
        "colab": {
          "base_uri": "https://localhost:8080/"
        },
        "outputId": "49310d08-cd17-4eec-fe65-6223c6a1b298",
        "collapsed": true
      },
      "execution_count": 8,
      "outputs": [
        {
          "output_type": "stream",
          "name": "stdout",
          "text": [
            "--2024-12-18 19:31:49--  https://zenodo.org/record/4003545/files/Task027_ACDC.zip\n",
            "Resolving zenodo.org (zenodo.org)... 188.185.48.194, 188.185.45.92, 188.185.43.25, ...\n",
            "Connecting to zenodo.org (zenodo.org)|188.185.48.194|:443... connected.\n",
            "HTTP request sent, awaiting response... 301 MOVED PERMANENTLY\n",
            "Location: /records/4003545/files/Task027_ACDC.zip [following]\n",
            "--2024-12-18 19:31:49--  https://zenodo.org/records/4003545/files/Task027_ACDC.zip\n",
            "Reusing existing connection to zenodo.org:443.\n",
            "HTTP request sent, awaiting response... 200 OK\n",
            "Length: 1830026265 (1.7G) [application/octet-stream]\n",
            "Saving to: ‘/content/nnUNet_trained_models/Task027_ACDC.zip’\n",
            "\n",
            "/content/nnUNet_tra 100%[===================>]   1.70G  17.1MB/s    in 99s     \n",
            "\n",
            "2024-12-18 19:33:28 (17.7 MB/s) - ‘/content/nnUNet_trained_models/Task027_ACDC.zip’ saved [1830026265/1830026265]\n",
            "\n",
            "Archive:  /content/nnUNet_trained_models/Task027_ACDC.zip\n",
            "  inflating: /content/nnUNet_trained_models/ensembles/Task027_ACDC/summary.csv  \n",
            "  inflating: /content/nnUNet_trained_models/ensembles/Task027_ACDC/ensemble_2d__nnUNetTrainerV2__nnUNetPlansv2.1--3d_fullres__nnUNetTrainerV2__nnUNetPlansv2.1/postprocessing.json  \n",
            "  inflating: /content/nnUNet_trained_models/3d_fullres/Task027_ACDC/nnUNetTrainerV2__nnUNetPlansv2.1/plans.pkl  \n",
            "  inflating: /content/nnUNet_trained_models/3d_fullres/Task027_ACDC/nnUNetTrainerV2__nnUNetPlansv2.1/postprocessing.json  \n",
            "  inflating: /content/nnUNet_trained_models/3d_fullres/Task027_ACDC/nnUNetTrainerV2__nnUNetPlansv2.1/fold_0/debug.json  \n",
            "  inflating: /content/nnUNet_trained_models/3d_fullres/Task027_ACDC/nnUNetTrainerV2__nnUNetPlansv2.1/fold_0/progress.png  \n",
            "  inflating: /content/nnUNet_trained_models/3d_fullres/Task027_ACDC/nnUNetTrainerV2__nnUNetPlansv2.1/fold_0/network_architecture.pdf  \n",
            "  inflating: /content/nnUNet_trained_models/3d_fullres/Task027_ACDC/nnUNetTrainerV2__nnUNetPlansv2.1/fold_0/model_final_checkpoint.model.pkl  \n",
            "  inflating: /content/nnUNet_trained_models/3d_fullres/Task027_ACDC/nnUNetTrainerV2__nnUNetPlansv2.1/fold_0/model_final_checkpoint.model  \n",
            "  inflating: /content/nnUNet_trained_models/3d_fullres/Task027_ACDC/nnUNetTrainerV2__nnUNetPlansv2.1/fold_2/debug.json  \n",
            "  inflating: /content/nnUNet_trained_models/3d_fullres/Task027_ACDC/nnUNetTrainerV2__nnUNetPlansv2.1/fold_2/progress.png  \n",
            "  inflating: /content/nnUNet_trained_models/3d_fullres/Task027_ACDC/nnUNetTrainerV2__nnUNetPlansv2.1/fold_2/model_final_checkpoint.model.pkl  \n",
            "  inflating: /content/nnUNet_trained_models/3d_fullres/Task027_ACDC/nnUNetTrainerV2__nnUNetPlansv2.1/fold_2/model_final_checkpoint.model  \n",
            "  inflating: /content/nnUNet_trained_models/3d_fullres/Task027_ACDC/nnUNetTrainerV2__nnUNetPlansv2.1/fold_4/debug.json  \n",
            "  inflating: /content/nnUNet_trained_models/3d_fullres/Task027_ACDC/nnUNetTrainerV2__nnUNetPlansv2.1/fold_4/progress.png  \n",
            "  inflating: /content/nnUNet_trained_models/3d_fullres/Task027_ACDC/nnUNetTrainerV2__nnUNetPlansv2.1/fold_4/network_architecture.pdf  \n",
            "  inflating: /content/nnUNet_trained_models/3d_fullres/Task027_ACDC/nnUNetTrainerV2__nnUNetPlansv2.1/fold_4/model_final_checkpoint.model.pkl  \n",
            "  inflating: /content/nnUNet_trained_models/3d_fullres/Task027_ACDC/nnUNetTrainerV2__nnUNetPlansv2.1/fold_4/model_final_checkpoint.model  \n",
            "  inflating: /content/nnUNet_trained_models/3d_fullres/Task027_ACDC/nnUNetTrainerV2__nnUNetPlansv2.1/fold_1/debug.json  \n",
            "  inflating: /content/nnUNet_trained_models/3d_fullres/Task027_ACDC/nnUNetTrainerV2__nnUNetPlansv2.1/fold_1/progress.png  \n",
            "  inflating: /content/nnUNet_trained_models/3d_fullres/Task027_ACDC/nnUNetTrainerV2__nnUNetPlansv2.1/fold_1/network_architecture.pdf  \n",
            "  inflating: /content/nnUNet_trained_models/3d_fullres/Task027_ACDC/nnUNetTrainerV2__nnUNetPlansv2.1/fold_1/model_final_checkpoint.model.pkl  \n",
            "  inflating: /content/nnUNet_trained_models/3d_fullres/Task027_ACDC/nnUNetTrainerV2__nnUNetPlansv2.1/fold_1/model_final_checkpoint.model  \n",
            "  inflating: /content/nnUNet_trained_models/3d_fullres/Task027_ACDC/nnUNetTrainerV2__nnUNetPlansv2.1/fold_3/debug.json  \n",
            "  inflating: /content/nnUNet_trained_models/3d_fullres/Task027_ACDC/nnUNetTrainerV2__nnUNetPlansv2.1/fold_3/progress.png  \n",
            "  inflating: /content/nnUNet_trained_models/3d_fullres/Task027_ACDC/nnUNetTrainerV2__nnUNetPlansv2.1/fold_3/model_final_checkpoint.model.pkl  \n",
            "  inflating: /content/nnUNet_trained_models/3d_fullres/Task027_ACDC/nnUNetTrainerV2__nnUNetPlansv2.1/fold_3/model_final_checkpoint.model  \n",
            "  inflating: /content/nnUNet_trained_models/2d/Task027_ACDC/nnUNetTrainerV2__nnUNetPlansv2.1/plans.pkl  \n",
            "  inflating: /content/nnUNet_trained_models/2d/Task027_ACDC/nnUNetTrainerV2__nnUNetPlansv2.1/postprocessing.json  \n",
            "  inflating: /content/nnUNet_trained_models/2d/Task027_ACDC/nnUNetTrainerV2__nnUNetPlansv2.1/fold_0/debug.json  \n",
            "  inflating: /content/nnUNet_trained_models/2d/Task027_ACDC/nnUNetTrainerV2__nnUNetPlansv2.1/fold_0/progress.png  \n",
            "  inflating: /content/nnUNet_trained_models/2d/Task027_ACDC/nnUNetTrainerV2__nnUNetPlansv2.1/fold_0/network_architecture.pdf  \n",
            "  inflating: /content/nnUNet_trained_models/2d/Task027_ACDC/nnUNetTrainerV2__nnUNetPlansv2.1/fold_0/model_final_checkpoint.model.pkl  \n",
            "  inflating: /content/nnUNet_trained_models/2d/Task027_ACDC/nnUNetTrainerV2__nnUNetPlansv2.1/fold_0/model_final_checkpoint.model  \n",
            "  inflating: /content/nnUNet_trained_models/2d/Task027_ACDC/nnUNetTrainerV2__nnUNetPlansv2.1/fold_2/debug.json  \n",
            "  inflating: /content/nnUNet_trained_models/2d/Task027_ACDC/nnUNetTrainerV2__nnUNetPlansv2.1/fold_2/progress.png  \n",
            "  inflating: /content/nnUNet_trained_models/2d/Task027_ACDC/nnUNetTrainerV2__nnUNetPlansv2.1/fold_2/network_architecture.pdf  \n",
            "  inflating: /content/nnUNet_trained_models/2d/Task027_ACDC/nnUNetTrainerV2__nnUNetPlansv2.1/fold_2/model_final_checkpoint.model.pkl  \n",
            "  inflating: /content/nnUNet_trained_models/2d/Task027_ACDC/nnUNetTrainerV2__nnUNetPlansv2.1/fold_2/model_final_checkpoint.model  \n",
            "  inflating: /content/nnUNet_trained_models/2d/Task027_ACDC/nnUNetTrainerV2__nnUNetPlansv2.1/fold_4/debug.json  \n",
            "  inflating: /content/nnUNet_trained_models/2d/Task027_ACDC/nnUNetTrainerV2__nnUNetPlansv2.1/fold_4/progress.png  \n",
            "  inflating: /content/nnUNet_trained_models/2d/Task027_ACDC/nnUNetTrainerV2__nnUNetPlansv2.1/fold_4/network_architecture.pdf  \n",
            "  inflating: /content/nnUNet_trained_models/2d/Task027_ACDC/nnUNetTrainerV2__nnUNetPlansv2.1/fold_4/model_final_checkpoint.model.pkl  \n",
            "  inflating: /content/nnUNet_trained_models/2d/Task027_ACDC/nnUNetTrainerV2__nnUNetPlansv2.1/fold_4/model_final_checkpoint.model  \n",
            "  inflating: /content/nnUNet_trained_models/2d/Task027_ACDC/nnUNetTrainerV2__nnUNetPlansv2.1/fold_1/debug.json  \n",
            "  inflating: /content/nnUNet_trained_models/2d/Task027_ACDC/nnUNetTrainerV2__nnUNetPlansv2.1/fold_1/progress.png  \n",
            "  inflating: /content/nnUNet_trained_models/2d/Task027_ACDC/nnUNetTrainerV2__nnUNetPlansv2.1/fold_1/network_architecture.pdf  \n",
            "  inflating: /content/nnUNet_trained_models/2d/Task027_ACDC/nnUNetTrainerV2__nnUNetPlansv2.1/fold_1/model_final_checkpoint.model.pkl  \n",
            "  inflating: /content/nnUNet_trained_models/2d/Task027_ACDC/nnUNetTrainerV2__nnUNetPlansv2.1/fold_1/model_final_checkpoint.model  \n",
            "  inflating: /content/nnUNet_trained_models/2d/Task027_ACDC/nnUNetTrainerV2__nnUNetPlansv2.1/fold_3/debug.json  \n",
            "  inflating: /content/nnUNet_trained_models/2d/Task027_ACDC/nnUNetTrainerV2__nnUNetPlansv2.1/fold_3/progress.png  \n",
            "  inflating: /content/nnUNet_trained_models/2d/Task027_ACDC/nnUNetTrainerV2__nnUNetPlansv2.1/fold_3/network_architecture.pdf  \n",
            "  inflating: /content/nnUNet_trained_models/2d/Task027_ACDC/nnUNetTrainerV2__nnUNetPlansv2.1/fold_3/model_final_checkpoint.model.pkl  \n",
            "  inflating: /content/nnUNet_trained_models/2d/Task027_ACDC/nnUNetTrainerV2__nnUNetPlansv2.1/fold_3/model_final_checkpoint.model  \n"
          ]
        }
      ]
    },
    {
      "cell_type": "code",
      "source": [
        "import os\n",
        "# Set paths to nnU-Net directories\n",
        "os.environ['nnUNet_raw_data_base'] = '/content/nnUNet_raw_data_base'\n",
        "os.environ['nnUNet_preprocessed'] = '/content/nnUNet_preprocessed'\n",
        "os.environ['RESULTS_FOLDER'] = '/content/nnUNet_trained_models'"
      ],
      "metadata": {
        "id": "7SJGv9CEv_GC"
      },
      "execution_count": 9,
      "outputs": []
    },
    {
      "cell_type": "code",
      "source": [
        "!nnUNet_predict -i /content/salida/input_segm -o /content/salida/ouput_segm -t 27 -m 3d_fullres"
      ],
      "metadata": {
        "colab": {
          "base_uri": "https://localhost:8080/"
        },
        "id": "_UtI-rMH0cqd",
        "outputId": "dc3b90a0-c7f9-4f58-b0eb-310fff5ef821"
      },
      "execution_count": 10,
      "outputs": [
        {
          "output_type": "stream",
          "name": "stdout",
          "text": [
            "\n",
            "\n",
            "Please cite the following paper when using nnUNet:\n",
            "\n",
            "Isensee, F., Jaeger, P.F., Kohl, S.A.A. et al. \"nnU-Net: a self-configuring method for deep learning-based biomedical image segmentation.\" Nat Methods (2020). https://doi.org/10.1038/s41592-020-01008-z\n",
            "\n",
            "\n",
            "If you have questions or suggestions, feel free to open an issue at https://github.com/MIC-DKFZ/nnUNet\n",
            "\n",
            "Traceback (most recent call last):\n",
            "  File \"/usr/local/bin/nnUNet_predict\", line 8, in <module>\n",
            "    sys.exit(main())\n",
            "  File \"/usr/local/lib/python3.10/dist-packages/nnunet/inference/predict_simple.py\", line 152, in main\n",
            "    task_name = convert_id_to_task_name(task_id)\n",
            "  File \"/usr/local/lib/python3.10/dist-packages/nnunet/utilities/task_name_id_conversion.py\", line 51, in convert_id_to_task_name\n",
            "    raise RuntimeError(\"Could not find a task with the ID %d. Make sure the requested task ID exists and that \"\n",
            "RuntimeError: Could not find a task with the ID 27. Make sure the requested task ID exists and that nnU-Net knows where raw and preprocessed data are located (see Documentation - Installation). Here are your currently defined folders:\n",
            "nnUNet_preprocessed=/content/nnUNet_preprocessed\n",
            "RESULTS_FOLDER=/content/nnUNet_trained_models\n",
            "nnUNet_raw_data_base=/content/nnUNet_raw_data_base\n",
            "If something is not right, adapt your environemnt variables.\n"
          ]
        }
      ]
    },
    {
      "cell_type": "code",
      "source": [
        "!python /content/cardiac-segmentation/mesh_generator.py --input /content/salida/output_segm --output /content/salida/output_segm"
      ],
      "metadata": {
        "colab": {
          "base_uri": "https://localhost:8080/"
        },
        "id": "dM4jS4riALHU",
        "outputId": "696e6b0b-a262-4e3e-d69e-f3302f30dbb4"
      },
      "execution_count": 14,
      "outputs": [
        {
          "output_type": "stream",
          "name": "stdout",
          "text": [
            "Error en el proceso: Archivo no encontrado: time_01.nii.gz\n"
          ]
        }
      ]
    },
    {
      "cell_type": "code",
      "source": [
        "!python /content/cardiac-segmentation/mesh_generator.py --input time_01.nii.gz --output malla.stl"
      ],
      "metadata": {
        "colab": {
          "base_uri": "https://localhost:8080/"
        },
        "id": "-XgHM1e7EJcM",
        "outputId": "03329a3a-dfcd-47e6-cef8-2b7111b69cfe"
      },
      "execution_count": null,
      "outputs": [
        {
          "output_type": "stream",
          "name": "stdout",
          "text": [
            "Error en el proceso: Archivo no encontrado: time_01.nii.gz\n"
          ]
        }
      ]
    }
  ]
}